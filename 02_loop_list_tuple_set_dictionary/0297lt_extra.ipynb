{
 "cells": [
  {
   "cell_type": "markdown",
   "metadata": {},
   "source": [
    "# Papildomos užduotys\n",
    "\n",
    "1. Parašytkite programą asmens kodo patikrinimui. Vartotojui įvedus asmens kodą, programa turi parašyti, ar jis teisingas.\n",
    "Asmens kodo sudarymo taisyklės ir patikrinimo skaičiaus formulę rasite [čia](https://lietuvai.lt/wiki/Asmens_kodas). [Atsakymas](asmens_kodas.py)"
   ]
  },
  {
   "cell_type": "code",
   "execution_count": null,
   "metadata": {},
   "outputs": [],
   "source": []
  },
  {
   "cell_type": "code",
   "execution_count": 15,
   "metadata": {},
   "outputs": [
    {
     "name": "stdout",
     "output_type": "stream",
     "text": [
      "Įveskite skaičių.\n"
     ]
    }
   ],
   "source": [
    "vartotojo_vardas = input(\"Jūsų vardas: \")\n",
    "\n",
    "try:\n",
    "    kredito_balansas = float(input(\"Kredito balansas: \"))\n",
    "    if kredito_balansas >= 1000:\n",
    "        print(\"Liuksas\")\n",
    "    else:\n",
    "        print(\"Negerai\")\n",
    "except ValueError:\n",
    "    print(\"Įveskite skaičių.\")\n"
   ]
  }
 ],
 "metadata": {
  "kernelspec": {
   "display_name": "venv",
   "language": "python",
   "name": "python3"
  },
  "language_info": {
   "codemirror_mode": {
    "name": "ipython",
    "version": 3
   },
   "file_extension": ".py",
   "mimetype": "text/x-python",
   "name": "python",
   "nbconvert_exporter": "python",
   "pygments_lexer": "ipython3",
   "version": "3.11.7"
  }
 },
 "nbformat": 4,
 "nbformat_minor": 2
}
