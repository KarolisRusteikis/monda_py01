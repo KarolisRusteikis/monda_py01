{
 "cells": [
  {
   "cell_type": "markdown",
   "metadata": {},
   "source": [
    "# `for` Ciklai\n",
    "Kas yra `for` ciklas?\n",
    "\n",
    "`for` ciklas Python programavimo kalboje yra valdymo srauto teiginys, leidžiantis iteruoti per nustatytą elementų rinkinį, tokių kaip sąrašai, žodynai ir kt.\n",
    "Iteracija yra bendrasis terminas, naudojamas programavimo ir informatikos srityse, kuris apibūdina procesą, kai seka veiksmų arba instrukcijų pakartotinai vykdoma tam tikruose elementuose, dažniausiai po vieną. Tai yra pagrindinė programavimo sąvoka ir naudojama peržiūrėti, apdoroti arba manipuliuoti duomenų strukt8roms.\n",
    "\n",
    "- `for` cikle nurodomas kintamasis, kuriame saugomas kiekvieno žingsnio iteracijos elementas. Ciklo blokas yra atitrauktas į dešinę ir vykdomas kiekvienam nustatytos iteracijos žingsniui.\n",
    "\n",
    "## `for` ciklo pritaikymas `sąraše`:\n",
    "\n",
    "Pavyzdžiui, jei turime skaičių sąrašą ir norime atspausdinti kiekvieną skaičių, galime naudoti for ciklą:\n"
   ]
  },
  {
   "cell_type": "code",
   "execution_count": 1,
   "metadata": {},
   "outputs": [
    {
     "name": "stdout",
     "output_type": "stream",
     "text": [
      "1\n",
      "2\n",
      "3\n",
      "4\n",
      "5\n"
     ]
    }
   ],
   "source": [
    "skaiciai = [1, 2, 3, 4, 5]\n",
    "\n",
    "for zmogus in skaiciai:\n",
    "    print(zmogus)"
   ]
  },
  {
   "cell_type": "markdown",
   "metadata": {},
   "source": [
    "Atkreipkite dėmesį, kad kitose programavimo kalbose `skaicius` kintamąjį dažnai pakeičia `i`, kuris dažnai naudojamas kaip kintamasis cikluose. Tai yra konvencija ir reiškia \"indeksą\" arba \"iteraciją\". '`i`' kintamasis dažnai naudojamas valdyti iteracijų skaičių arba pasiekti elementus masyve ar sąraše. '`i`' plačiai suprantamas ir pripažįstamas ciklo kontekste. Python'e `for` ciklo žingsnio kintamasis įgauna elemento reikšmę, ne indeksą, ir geriausia, kad kintamojo pavadinimas reprezentuotų tą reikšmę, pvz. `skaicius`.\n",
    "\n",
    "`for` ciklas, kai jis taikomas aibėms ir tuplams, elgiasi taip pat kaip ir sąrašašuose. Apie juos vėliau."
   ]
  },
  {
   "cell_type": "markdown",
   "metadata": {},
   "source": [
    "### Greitas Uždavinys 1\n",
    "\n",
    "1. Sukurkite sąrašą su bent penkiais elementais\n",
    "1. Atspausdinkite jį naudodami `for` ciklą"
   ]
  },
  {
   "cell_type": "code",
   "execution_count": 3,
   "metadata": {},
   "outputs": [
    {
     "name": "stdout",
     "output_type": "stream",
     "text": [
      "bananas\n",
      "obuolys\n",
      "persikas\n",
      "arbuzas\n",
      "meleonas\n"
     ]
    }
   ],
   "source": [
    "vaisiai = ['bananas', 'obuolys', 'persikas', 'arbuzas', 'meleonas']\n",
    "for vaisius in vaisiai:\n",
    "    print(vaisius)"
   ]
  },
  {
   "cell_type": "markdown",
   "metadata": {},
   "source": [
    "---\n",
    "\n",
    "## `for` ciklo pritaikymas žodynui\n",
    "\n",
    "Taip pat galime naudoti `for` ciklą su žodynu. Yra keletas būdų tai padaryti.\n",
    "\n",
    "Šis ciklas iteruos per žodyno raktus ir grąžins kiekvieną raktą atskirai. \n",
    "\n",
    "**Pavyzdžiui**:\n"
   ]
  },
  {
   "cell_type": "code",
   "execution_count": 5,
   "metadata": {},
   "outputs": [
    {
     "name": "stdout",
     "output_type": "stream",
     "text": [
      "Rokas 20\n",
      "Andrius 34\n",
      "Laura 25\n"
     ]
    }
   ],
   "source": [
    "zmones = {'Rokas': 20, 'Andrius': 34, 'Laura': 25}\n",
    "\n",
    "for zmogus in zmones:\n",
    "    print(zmogus, zmones[zmogus])"
   ]
  },
  {
   "cell_type": "markdown",
   "metadata": {},
   "source": [
    "### Greitas uždavinys 2\n",
    "\n",
    "Sukurkite vaisių žodyną, nurodydami kiekius kaip reikšmes, ir išspausdinkite visų vaisių raktinius žodžius"
   ]
  },
  {
   "cell_type": "code",
   "execution_count": 5,
   "metadata": {},
   "outputs": [
    {
     "name": "stdout",
     "output_type": "stream",
     "text": [
      "20\n",
      "34\n",
      "25\n"
     ]
    }
   ],
   "source": [
    "---\n",
    "\n",
    "Naudodami `.values()` žodyno metodus cikle, ciklas iteruos per žodyno vertybes ir grąžins kiekvieną vertę atskirai.\n",
    "\n",
    "Pavyzdžiui:"
   ]
  },
  {
   "cell_type": "code",
   "execution_count": 7,
   "metadata": {},
   "outputs": [
    {
     "name": "stdout",
     "output_type": "stream",
     "text": [
      "20\n",
      "34\n",
      "25\n"
     ]
    }
   ],
   "source": [
    "zmones = {'Rokas': 20, 'Andrius': 34, 'Laura': 25}\n",
    "\n",
    "for zmogaus_amzius in zmones.values():\n",
    "    print(zmogaus_amzius)"
   ]
  },
  {
   "cell_type": "markdown",
   "metadata": {},
   "source": [
    "### Greitas uždavinys 3\n",
    "\n",
    "Susumuokite visus GU2 sukurto vaisių sąrašo vaisių kiekius, iteruodami žodyno reikšmes, ir išspausdinkite rezultatą po ciklo"
   ]
  },
  {
   "cell_type": "code",
   "execution_count": 86,
   "metadata": {},
   "outputs": [
    {
     "name": "stdout",
     "output_type": "stream",
     "text": [
      "Bendra suma 15\n"
     ]
    }
   ],
   "source": [
    "bendra_suma = sum(vaisiai.values())\n",
    "print('Bendra suma', bendra_suma)"
   ]
  },
  {
   "cell_type": "markdown",
   "metadata": {},
   "source": [
    "---\n",
    "\n",
    "Kai nurodome raktą, vertę ir `.items()`, ciklas iteruos per žodyno raktus, vertes ir grąžins kiekvieną raktą ir vertę atskirai. \n",
    "\n",
    "**Pavyzdžiui**:"
   ]
  },
  {
   "cell_type": "code",
   "execution_count": 8,
   "metadata": {},
   "outputs": [
    {
     "name": "stdout",
     "output_type": "stream",
     "text": [
      "Rokas 20\n",
      "Andrius 34\n",
      "Laura 25\n"
     ]
    }
   ],
   "source": [
    "zmones = {'Rokas': 20, 'Andrius': 34, 'Laura': 25}\n",
    "\n",
    "for vardas, amzius in zmones.items():\n",
    "    print(vardas, amzius)"
   ]
  },
  {
   "cell_type": "code",
   "execution_count": null,
   "metadata": {},
   "outputs": [],
   "source": []
  },
  {
   "cell_type": "markdown",
   "metadata": {},
   "source": [
    "Svarbu pažymėti, kad šį kartą indekso kintamasis buvo pakeistas į kintamuosius '`vardas`' ir '`amzius`', atitinkamai reprezentuojant žodyno elementus."
   ]
  },
  {
   "cell_type": "markdown",
   "metadata": {},
   "source": [
    "### Greitas uždavinys 4\n",
    "\n",
    "Panaudojant `items()` žodyno metodą ir `for` ciklą, suformatuotai išspausdinkite vaisių sąrašą su kiekiais, kiekius kaip stulpelį lygiuodami iš dešinės"
   ]
  },
  {
   "cell_type": "code",
   "execution_count": 7,
   "metadata": {},
   "outputs": [
    {
     "name": "stdout",
     "output_type": "stream",
     "text": [
      "Dabar Rokas 20\n",
      "Po pakeitimo Rokas 21\n",
      "Dabar Andrius 34\n",
      "Po pakeitimo Andrius 35\n",
      "Dabar Laura 25\n",
      "Po pakeitimo Laura 26\n"
     ]
    }
   ],
   "source": [
    "---\n",
    "\n",
    "Galima kreiptis į žodyno elementus su raktu cikle, naudojant `keys()` metodą. Pavyzdys su gerąja praktika keičiant elemento reikšmę:"
   ]
  },
  {
   "cell_type": "code",
   "execution_count": 9,
   "metadata": {},
   "outputs": [
    {
     "name": "stdout",
     "output_type": "stream",
     "text": [
      "Dabar Rokas 20\n",
      "Po pakeitimo Rokas 21\n",
      "Dabar Andrius 34\n",
      "Po pakeitimo Andrius 35\n",
      "Dabar Laura 25\n",
      "Po pakeitimo Laura 26\n"
     ]
    }
   ],
   "source": [
    "zmones = {'Rokas': 20, 'Andrius': 34, 'Laura': 25}\n",
    "\n",
    "for zmogus in zmones.keys():\n",
    "    print(\"Dabar\", zmogus, zmones[zmogus])\n",
    "    zmones[zmogus] += 1\n",
    "    print(\"Po pakeitimo\", zmogus, zmones[zmogus])"
   ]
  },
  {
   "cell_type": "markdown",
   "metadata": {},
   "source": [
    "### Greitas uždavinys 5\n",
    "\n",
    "Sumažinkite visus vaisius per 10. Jeigu vaisiaus kiekis tapo mažesnis už 0, nustatykite tą reikšmę kaip teigiamą panaudojant `abs()` funkcija."
   ]
  },
  {
   "cell_type": "code",
   "execution_count": 92,
   "metadata": {},
   "outputs": [
    {
     "name": "stdout",
     "output_type": "stream",
     "text": [
      "Dabar bananas 5\n",
      "Po pakeitimo bananas 5\n",
      "Dabar ananasas 3\n",
      "Po pakeitimo ananasas 7\n",
      "Dabar obuolys 7\n",
      "Po pakeitimo obuolys 3\n"
     ]
    }
   ],
   "source": [
    "vaisiai = {'bananas': 5, 'ananasas': 3, 'obuolys': 7}\n",
    "for vaisius in vaisiai.keys():\n",
    "    print(\"Dabar\", vaisius, vaisiai[vaisius])\n",
    "    vaisiai[vaisius] -= 10\n",
    "    if vaisiai[vaisius] <= 0:\n",
    "        vaisiai[vaisius] = abs(vaisiai[vaisius])\n",
    "    print(\"Po pakeitimo\", vaisius, vaisiai[vaisius])"
   ]
  },
  {
   "cell_type": "markdown",
   "metadata": {},
   "source": [
    "---\n",
    "\n",
    "## `for` ciklas su `range()` funkcija\n",
    "\n",
    "`range()` funkcija generuoja skaičių seka nuo pradžios iki pabaigos. Galime naudoti `for` ciklą su `range` funkcija, kad atliktume veiksmus su kiekvienu skaičiumi sekoje."
   ]
  },
  {
   "cell_type": "code",
   "execution_count": 80,
   "metadata": {},
   "outputs": [
    {
     "name": "stdout",
     "output_type": "stream",
     "text": [
      "1\n",
      "2\n",
      "3\n",
      "4\n",
      "5\n"
     ]
    }
   ],
   "source": [
    "for skaicius in range(1, 6):\n",
    "    print(skaicius)"
   ]
  },
  {
   "cell_type": "markdown",
   "metadata": {},
   "source": [
    "### Greitas uždavinys 6\n",
    "\n",
    "Parašykite ciklą, skaičiuojantį nuo 10 iki 0 atbulyn."
   ]
  },
  {
   "cell_type": "code",
   "execution_count": 96,
   "metadata": {},
   "outputs": [
    {
     "name": "stdout",
     "output_type": "stream",
     "text": [
      "10\n",
      "9\n",
      "8\n",
      "7\n",
      "6\n",
      "5\n",
      "4\n",
      "3\n",
      "2\n",
      "1\n"
     ]
    }
   ],
   "source": [
    "for skaicius in range(10, 0, -1):\n",
    "    print(skaicius)"
   ]
  },
  {
   "cell_type": "markdown",
   "metadata": {},
   "source": [
    "---\n",
    "\n",
    "## Ciklo nutraukimo komanda `break`\n",
    "Komandą `break` naudojame, norėdami nutraukti `for` ciklą ir tęsti su sekančia kodo dalimi."
   ]
  },
  {
   "cell_type": "code",
   "execution_count": 29,
   "metadata": {},
   "outputs": [
    {
     "name": "stdout",
     "output_type": "stream",
     "text": [
      "1\n",
      "2\n",
      "radau 3\n"
     ]
    }
   ],
   "source": [
    "skaiciai = [1, 2, 3, 4, 5]\n",
    "\n",
    "for skaicius in skaiciai:\n",
    "    if skaicius == 3:\n",
    "        radau = 3\n",
    "        break\n",
    "    print(skaicius)\n",
    "print('radau', radau)"
   ]
  },
  {
   "cell_type": "markdown",
   "metadata": {},
   "source": [
    "Kaip matote, programa nutraukė ciklą pasiekusi skaičių \"`3`\" ir nespausdino kitų skaičių, kurie buvo išvardyti po jo."
   ]
  },
  {
   "cell_type": "markdown",
   "metadata": {},
   "source": [
    "### Greitas uždavinys 7\n",
    "\n",
    "Iterkuokite vaisių žodyną tol, kol rasite konkretų vaisių, pvz. obuolius. Radę, išspausdinkite to vaisiaus kiekį ir nutraukite ciklą. Taip pat išspausdinkite vaisių pavadinimus, kuriuos palietėte ieškojimo metu, be kiekių."
   ]
  },
  {
   "cell_type": "code",
   "execution_count": 10,
   "metadata": {},
   "outputs": [
    {
     "name": "stdout",
     "output_type": "stream",
     "text": [
      "1\n",
      "2\n",
      "4\n",
      "5\n"
     ]
    }
   ],
   "source": [
    "---\n",
    "\n",
    "## Ciklo pratęsimo komanda `continue`\n",
    "\n",
    "Kai naudojame pratęsimo komandą `continue`, programa praleidžia šią iteraciją ir tęsia su kitu elementu kolekcijoje. \n",
    "\n",
    "Pavyzdžiui:"
   ]
  },
  {
   "cell_type": "code",
   "execution_count": 100,
   "metadata": {},
   "outputs": [
    {
     "name": "stdout",
     "output_type": "stream",
     "text": [
      "arbuzas\n",
      "kriause\n",
      "apelsinas\n",
      "meleonas\n",
      "radau obuolys\n"
     ]
    }
   ],
   "source": [
    "vaisiai = {'arbuzas': 14, 'kriause': 9, 'apelsinas': 4, 'meleonas': 7, 'obuolys': 16, 'slyva': 21}\n",
    "for vaisius in vaisiai:\n",
    "    if vaisius == 'obuolys':\n",
    "        radau = 'obuolys'\n",
    "        break\n",
    "    print(vaisius)\n",
    "print('radau', vaisius)"
   ]
  },
  {
   "cell_type": "code",
   "execution_count": 31,
   "metadata": {},
   "outputs": [
    {
     "name": "stdout",
     "output_type": "stream",
     "text": [
      "1\n",
      "3\n",
      "7\n",
      "9\n"
     ]
    }
   ],
   "source": [
    "skaiciai = [1, 2, 3, 4, 5, 6, 7, 8, 9]\n",
    "\n",
    "for skaicius in skaiciai:\n",
    "    if skaicius % 2 == 0:\n",
    "        continue\n",
    "    if skaicius == 5:\n",
    "        continue\n",
    "    print(skaicius)"
   ]
  },
  {
   "cell_type": "markdown",
   "metadata": {},
   "source": [
    "### Greitas uždavinys 8\n",
    "\n",
    "Iteruojant per vaisių žodyną, išspausdinkite tik tų vaisių pavadinimus, kurių kiekis yra daugiau negu 10. Sprendime panaudokite `continue`."
   ]
  },
  {
   "cell_type": "code",
   "execution_count": 107,
   "metadata": {},
   "outputs": [
    {
     "ename": "TypeError",
     "evalue": "'<=' not supported between instances of 'str' and 'int'",
     "output_type": "error",
     "traceback": [
      "\u001b[1;31m---------------------------------------------------------------------------\u001b[0m",
      "\u001b[1;31mTypeError\u001b[0m                                 Traceback (most recent call last)",
      "Cell \u001b[1;32mIn[107], line 2\u001b[0m\n\u001b[0;32m      1\u001b[0m \u001b[38;5;28;01mfor\u001b[39;00m vaisius, kiekis \u001b[38;5;129;01min\u001b[39;00m vaisiai\u001b[38;5;241m.\u001b[39mitems():\n\u001b[1;32m----> 2\u001b[0m     \u001b[38;5;28;01mif\u001b[39;00m \u001b[43mvaisius\u001b[49m\u001b[43m \u001b[49m\u001b[38;5;241;43m<\u001b[39;49m\u001b[38;5;241;43m=\u001b[39;49m\u001b[43m \u001b[49m\u001b[38;5;241;43m10\u001b[39;49m:\n\u001b[0;32m      3\u001b[0m         \u001b[38;5;28;01mcontinue\u001b[39;00m\n\u001b[0;32m      4\u001b[0m     \u001b[38;5;28mprint\u001b[39m(\u001b[38;5;124mf\u001b[39m\u001b[38;5;124m\"\u001b[39m\u001b[38;5;132;01m{\u001b[39;00mvaisius\u001b[38;5;132;01m:\u001b[39;00m\u001b[38;5;124m10\u001b[39m\u001b[38;5;132;01m}\u001b[39;00m\u001b[38;5;124m \u001b[39m\u001b[38;5;132;01m{\u001b[39;00mkiekis\u001b[38;5;132;01m:\u001b[39;00m\u001b[38;5;124m>10g\u001b[39m\u001b[38;5;132;01m}\u001b[39;00m\u001b[38;5;124m\"\u001b[39m)\n",
      "\u001b[1;31mTypeError\u001b[0m: '<=' not supported between instances of 'str' and 'int'"
     ]
    }
   ],
   "source": [
    "for vaisius, kiekis in vaisiai.items():\n",
    "    if vaisius <= 10:\n",
    "        continue\n",
    "    print(f\"{vaisius:10} {kiekis:>10g}\")"
   ]
  },
  {
   "cell_type": "code",
   "execution_count": 11,
   "metadata": {},
   "outputs": [
    {
     "name": "stdout",
     "output_type": "stream",
     "text": [
      "1\n",
      "2\n",
      "3\n",
      "4\n",
      "5\n",
      "for ciklo pabaiga.\n"
     ]
    }
   ],
   "source": [
    "Kaip matote, programa praleido lyginius skaičius ir 5, ir tęsė su spausdinimą likusių skaičių sąraše."
   ]
  },
  {
   "cell_type": "markdown",
   "metadata": {},
   "source": [
    "---\n",
    "\n",
    "## `else` blokas `for` cikle\n",
    "\n",
    "`else` blokas naudojamas atlikti tam tikrus veiksmus, kai `for` ciklas pasiekia savo pabaigą."
   ]
  },
  {
   "cell_type": "code",
   "execution_count": 38,
   "metadata": {},
   "outputs": [
    {
     "name": "stdout",
     "output_type": "stream",
     "text": [
      "1\n",
      "2\n",
      "3\n",
      "4\n",
      "5\n",
      "for ciklo pabaiga.\n"
     ]
    }
   ],
   "source": [
    "skaiciai = [1, 2, 3, 4, 5]\n",
    "\n",
    "for skaicius in skaiciai:\n",
    "    if not type(skaicius) == int:\n",
    "        break\n",
    "    print(skaicius)\n",
    "else:\n",
    "    print('for ciklo pabaiga.')"
   ]
  },
  {
   "cell_type": "markdown",
   "metadata": {},
   "source": [
    "Jei ciklą nutrauksime naudodami `break` komandą, `else` sąlygos blokas nebus vykdomas."
   ]
  },
  {
   "cell_type": "code",
   "execution_count": 97,
   "metadata": {},
   "outputs": [
    {
     "name": "stdout",
     "output_type": "stream",
     "text": [
      "1\n",
      "2\n",
      "3\n",
      "4\n"
     ]
    }
   ],
   "source": [
    "skaiciai = [1, 2, 3, 4, 'triuksmas', 5]\n",
    "\n",
    "for skaicius in skaiciai:\n",
    "    if not type(skaicius) == int:\n",
    "        break\n",
    "    print(skaicius)\n",
    "else:\n",
    "    print('for ciklo pabaiga.')"
   ]
  },
  {
   "cell_type": "markdown",
   "metadata": {},
   "source": [
    "### Greitas uždavinys 9\n",
    "\n",
    "Sutikrinkite, ar visų vaisių kiekiai yra pozityvūs skaičiai. Jeigu taip, išspausdinkite pranešimą, kad vaisių sąrašas tvarkingas. Radę klaidą, išspausdinkite klaidos pranešimą. Fiktyviai pamodifikuokite vaisių žodyną, kad iššaukti klaidą."
   ]
  },
  {
   "cell_type": "code",
   "execution_count": null,
   "metadata": {},
   "outputs": [],
   "source": []
  },
  {
   "cell_type": "markdown",
   "metadata": {},
   "source": [
    "---\n",
    "\n",
    "## Sąrašo iteracija su indeksu\n",
    "\n",
    "`enumerate()` funkcija, naudojama kartu su `for` ciklu, grąžina poras, kur pirmasis kiekvienos poros elementas yra elemento indeksas, o antrasis - pats sąrašo elementas. \n",
    "\n",
    "Pavyzdžiui:"
   ]
  },
  {
   "cell_type": "code",
   "execution_count": 45,
   "metadata": {},
   "outputs": [
    {
     "name": "stdout",
     "output_type": "stream",
     "text": [
      "0 a\n",
      "1 b\n",
      "2 c\n",
      "3 d\n",
      "4 e\n"
     ]
    }
   ],
   "source": [
    "vaisiai = ['ananasas', 'bananas', 'citrika', 'datulė']\n",
    "for indeksas, vaisius in enumerate(vaisiai):\n",
    "    print(indeksas, vaisius)"
   ]
  },
  {
   "cell_type": "markdown",
   "metadata": {},
   "source": [
    "### Greitas uždavinys 10\n",
    "\n",
    "Sukurkite sąrašą knygų, kurias vis neprisiruošiate perskaityti, ir atspausdinkite jų sunumeruotą sąrašą."
   ]
  },
  {
   "cell_type": "code",
   "execution_count": 17,
   "metadata": {},
   "outputs": [
    {
     "name": "stdout",
     "output_type": "stream",
     "text": [
      "Champion name 1: Jax, Length: 3\n",
      "Champion name 2: Lee Sin, Length: 7\n",
      "Champion name 3: Bel'Veth, Length: 8\n",
      "Champion name 4: Seraphine, Length: 9\n",
      "Champion name 5: Trundle, Length: 7\n",
      "Champion name 6: Vi, Length: 2\n",
      "Champion name 7: Nocturne, Length: 8\n",
      "Champion name 8: Hecarim, Length: 7\n"
     ]
    }
   ],
   "source": [
    "words = []\n",
    "for i in range(8):\n",
    "    user_input = input(f\"Enter Champion name {i + 1}: \")\n",
    "    words.append(user_input)\n",
    "\n",
    "for i in range(len(words)):\n",
    "    word = words[i]\n",
    "    print(f\"Champion name {i + 1}: {word}, Length: {len(word)}\")"
   ]
  },
  {
   "cell_type": "code",
   "execution_count": 14,
   "metadata": {},
   "outputs": [
    {
     "name": "stdout",
     "output_type": "stream",
     "text": [
      "0: as kurio ilgis yra: 2\n",
      "1: tu kurio ilgis yra: 2\n",
      "2: jis kurio ilgis yra: 3\n",
      "3: ji kurio ilgis yra: 2\n",
      "4: mes kurio ilgis yra: 3\n"
     ]
    }
   ],
   "source": [
    "my_list = []\n",
    "for i in range(1,6):\n",
    "    a = input('iveskite zodi: ')\n",
    "    my_list.append(a)\n",
    "for indeksas, zodis in enumerate(my_list):\n",
    "    print(f'{indeksas}: {zodis} kurio ilgis yra: {len(zodis)}')"
   ]
  },
  {
   "cell_type": "markdown",
   "metadata": {},
   "source": [
    "---\n",
    "\n",
    "## Įterptinė (nested) `for` ciklo Konstrukcija\n",
    "\n",
    "Įterptinė(nested) `for` ciklo konstrukcija leidžia kurti ciklus, kuriuose vienas ar daugiau vidinių ciklų vykdomi kiekvienai išorinio ciklo iteracijai. \n",
    "- Tai ypač naudinga, kai turime duomenų struktūrą, kurią reikia analizuoti arba apdoroti sudėtingu būdu. \n",
    "\n",
    "**Pavyzdžiui**:"
   ]
  },
  {
   "cell_type": "code",
   "execution_count": 50,
   "metadata": {},
   "outputs": [
    {
     "name": "stdout",
     "output_type": "stream",
     "text": [
      "žalias ąžuolas yra gražus\n",
      "žalias beržas yra gražus\n",
      "žalias uosis yra gražus\n",
      "geltonas ąžuolas yra gražus\n",
      "geltonas beržas yra gražus\n",
      "geltonas uosis yra gražus\n",
      "raudonas ąžuolas yra gražus\n",
      "raudonas beržas yra gražus\n",
      "raudonas uosis yra gražus\n"
     ]
    }
   ],
   "source": [
    "spalvos = ['žalias', 'geltonas', 'raudonas']\n",
    "medziai = ['ąžuolas', 'beržas', 'uosis']\n",
    "\n",
    "for spalva in spalvos:\n",
    "    for medis in medziai:\n",
    "        print(spalva, medis, 'yra gražus')"
   ]
  },
  {
   "cell_type": "markdown",
   "metadata": {},
   "source": [
    "### Greitas uždavinys 11\n",
    "\n",
    "Čia yra mokinių ir jų pažymių žodynas:"
   ]
  },
  {
   "cell_type": "code",
   "execution_count": 19,
   "metadata": {},
   "outputs": [
    {
     "name": "stdout",
     "output_type": "stream",
     "text": [
      "{'Alicija': {'Matematika': 85, 'Mokslas': 92, 'Istorija': 88}, 'Bobas': {'Matematika': 78, 'Mokslas': 85, 'Istorija': 90}, 'Charlis': {'Matematika': 92, 'Mokslas': 88, 'Istorija': 76}}\n"
     ]
    }
   ],
   "source": [
    "mokinio_pazymiai = {\n",
    "    'Alicija': {'Matematika': 85, 'Mokslas': 92, 'Istorija': 88},\n",
    "    'Bobas': {'Matematika': 78, 'Mokslas': 85, 'Istorija': 90},\n",
    "    'Charlis': {'Matematika': 92, 'Mokslas': 88, 'Istorija': 76}\n",
    "}\n",
    "print(mokinio_pazymiai)"
   ]
  },
  {
   "cell_type": "markdown",
   "metadata": {},
   "source": [
    "Sukurkite įterptinį `for` ciklą, kuris atspausdintų mokinio vardą ir dalykus su pažymiais."
   ]
  },
  {
   "cell_type": "code",
   "execution_count": 23,
   "metadata": {},
   "outputs": [
    {
     "name": "stdout",
     "output_type": "stream",
     "text": [
      "Alicija pazimiai:\n",
      "Matematika: 85\n",
      "Mokslas: 92\n",
      "Istorija: 88\n",
      "\n",
      "Bobas pazimiai:\n",
      "Matematika: 78\n",
      "Mokslas: 85\n",
      "Istorija: 90\n",
      "\n",
      "Charlis pazimiai:\n",
      "Matematika: 92\n",
      "Mokslas: 88\n",
      "Istorija: 76\n",
      "\n"
     ]
    }
   ],
   "source": [
    "mokinio_pazymiai = {\n",
    "    'Alicija': {'Matematika': 85, 'Mokslas': 92, 'Istorija': 88},\n",
    "    'Bobas': {'Matematika': 78, 'Mokslas': 85, 'Istorija': 90},\n",
    "    'Charlis': {'Matematika': 92, 'Mokslas': 88, 'Istorija': 76}\n",
    "}\n",
    "for mokinys, pazimys in mokinio_pazymiai.items():\n",
    "    print(f\"{mokinys} pazimiai:\")\n",
    "    for dalykas, pazimys in pazimys.items():\n",
    "        print(f\"{dalykas}: {pazimys}\")\n",
    "    print()"
   ]
  },
  {
   "cell_type": "markdown",
   "metadata": {},
   "source": [
    "---\n",
    "\n",
    "## Užduotis 1\n",
    "\n",
    "Sukurkite programėlę, kuri:\n",
    "\n",
    "1. Leistu vartotojui įvesti 5 žodžius po vieną\n",
    "1. Pridėtų įvestus žodžius į sąrašą\n",
    "1. Atspausdintų kiekvieną žodį, jo ilgį ir eilės numerį sąraše (pradedant nuo 1)\n",
    "Papildoma: Leiskite programėlei įvesti tiek žodžių, kiek jums reikia. \n",
    "\n",
    "Patarimas: Naudokite `sąrašą`, ciklą `for`, funkcijas `len` ir `index`"
   ]
  },
  {
   "cell_type": "code",
   "execution_count": null,
   "metadata": {},
   "outputs": [],
   "source": []
  },
  {
   "cell_type": "markdown",
   "metadata": {},
   "source": [
    "---\n",
    "\n",
    "## Užduotis 2\n",
    "\n",
    "Parašykite programą. kuri atspausdintų visus keliamuosius metus nuo 1900 iki 2100."
   ]
  },
  {
   "cell_type": "code",
   "execution_count": null,
   "metadata": {},
   "outputs": [],
   "source": []
  }
 ],
 "metadata": {
  "kernelspec": {
   "display_name": "venv",
   "language": "python",
   "name": "python3"
  },
  "language_info": {
   "codemirror_mode": {
    "name": "ipython",
    "version": 3
   },
   "file_extension": ".py",
   "mimetype": "text/x-python",
   "name": "python",
   "nbconvert_exporter": "python",
   "pygments_lexer": "ipython3",
   "version": "3.11.7"
  }
 },
 "nbformat": 4,
 "nbformat_minor": 2
}
