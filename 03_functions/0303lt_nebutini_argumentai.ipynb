{
 "cells": [
  {
   "cell_type": "markdown",
   "metadata": {},
   "source": [
    "# Nebūtini argumentai su numatytomis reikšmėmis ir konkretaus argumento perdavimas\n",
    "\n",
    "Kuriant funkcijas, galima padidinti lankstumą naudojant numatytuosius argumentus su numatytomis reikšmėmis. Ši funkcija leidžia nustatyti numatytąsias reikšmes kai kuriems parametrams, kurie gali būti praleisti, kviečiant funkciją.\n",
    "\n",
    "Pažiūrėkime į šį pavyzdžį:"
   ]
  },
  {
   "cell_type": "code",
   "execution_count": null,
   "metadata": {},
   "outputs": [],
   "source": [
    "def pasisveikinimas(vardas, pasisveikinimas=\"Labas\"):\n",
    "    print(pasisveikinimas + \", \" + vardas)"
   ]
  },
  {
   "cell_type": "markdown",
   "metadata": {},
   "source": [
    "- Šioje funkcijoje '`vardas`' yra privalomas argumentas, o '`pasisveikinimas`' yra pasirenkamas argumentas, turintis numatytąją reikšmę \"`Labas`\". \n",
    "- Kviesdami funkciją, galite pateikti reikšmes abiem argumentams arba tik privalomajam. "
   ]
  },
  {
   "cell_type": "code",
   "execution_count": null,
   "metadata": {},
   "outputs": [],
   "source": [
    "pasisveikinimas(\"Jonas\", \"Sveiki\")  # Rezultatas: Sveiki, Jonas\n",
    "pasisveikinimas(\"Ona\")              # Rezultatas: Labas, Ona"
   ]
  },
  {
   "cell_type": "markdown",
   "metadata": {},
   "source": [
    "Dabar apsvarstykime kitą pavyzdį, susijusį su funkcija, kuri apskaičiuoja prekės kainą:"
   ]
  },
  {
   "cell_type": "code",
   "execution_count": null,
   "metadata": {},
   "outputs": [],
   "source": [
    "def skaiciuoti_kaina(prekes_pavadinimas, kaina, nuolaida=0, mokestis=21):\n",
    "    kaina_su_nuolaida = kaina * (1 - nuolaida / 100)\n",
    "    kaina_su_mokesciu = kaina_su_nuolaida * (1 + mokestis / 100)\n",
    "    print(f\"{prekes_pavadinimas} - kaina su nuolaida ir mokesčiais: {kaina_su_mokesciu:.2f}€\")"
   ]
  },
  {
   "cell_type": "markdown",
   "metadata": {},
   "source": [
    "- Šioje funkcijoje '`prekes_pavadinimas`' ir '`kaina`' yra privalomi argumentai, o '`nuolaida`' ir '`mokestis`' yra pasirenkami argumentai su numatytosiomis reikšmėmis. \n",
    "- Jei nenurodysite reikšmių '`nuolaida`' ir '`mokestis`' funkcijos iškvietimo metu, bus naudojamos numatytosios reikšmės (`0` ir `21` atitinkamai). \n",
    "\n",
    "Pažiūrėkime, kaip tai veikia:"
   ]
  },
  {
   "cell_type": "code",
   "execution_count": null,
   "metadata": {},
   "outputs": [],
   "source": [
    "skaiciuoti_kaina(\"Obuolys\", 1.00, 10, 5)\n",
    "skaiciuoti_kaina(\"Avokadas\", 1.20, mokestis=10)\n",
    "skaiciuoti_kaina(\"Pienas\", 2)"
   ]
  },
  {
   "cell_type": "markdown",
   "metadata": {},
   "source": [
    "- Ši funkcija skaičiuoja prekės galutinę kainą, atsižvelgdama į nuolaidas ir mokesčius. \n",
    "- Pasirenkami parametrai '`nuolaida`' ir '`mokestis`' yra aprūpinti numatytosiomis reikšmėmis, suteikiant lankstumą vartotojams, kurie gali nenustatyti šių reikšmių iš anksto."
   ]
  },
  {
   "cell_type": "markdown",
   "metadata": {},
   "source": [
    "### Greita užduotis 1\n",
    "\n",
    "Sukurkite Python funkciją, kuri apskaičiuotų pristatymo išlaidas pagal atstumą, svorį ir kainą už kilogramą.\n",
    "\n",
    "Argumentai:\n",
    "\n",
    "`distance` (privaloma): Atstumas kilometrais.\n",
    "`weight` (neprivalomas, numatytasis 1 kg): Svoris kilogramais.\n",
    "`rate_per_kg` (neprivalomas, numatytasis 5 €/kg): Kaina už kilogramą pristatymui.\n",
    "\n",
    "1. Funkcijoje apskaičiuokite pristatymo išlaidas kaip `distance * weight * rate_per_kg`.\n",
    "1. Atspausdinkite apskaičiuotas pristatymo išlaidas suapvalintas iki dviejų skaitmenų po kablelio, naudodami f-tekstą. Pavyzdžiui: \"Pristatymo kaina: {pristatymo_kaina:.2f} €.\"\n",
    "1. Patikrinkite funkciją iškvieskite bent trijose skirtingose situacijose, tiek su, tiek be svorio ir rate_per_kg nurodymo."
   ]
  },
  {
   "cell_type": "code",
   "execution_count": 1,
   "metadata": {},
   "outputs": [
    {
     "name": "stdout",
     "output_type": "stream",
     "text": [
      "Pristatymo kaina: 500.00 €\n",
      "Pristatymo kaina: 1800.00 €\n",
      "Pristatymo kaina: 800.00 €\n"
     ]
    }
   ],
   "source": [
    "def apskaiciuoti_pristatymo_islaidas(distance, weight=1, rate_per_kg=5):\n",
    "    pristatymo_kaina = distance * weight * rate_per_kg\n",
    "    print(f\"Pristatymo kaina: {pristatymo_kaina:.2f} €\")\n",
    "\n",
    "# Pavyzdys naudojant funkciją su visais numatytajais parametrais\n",
    "apskaiciuoti_pristatymo_islaidas(100)\n",
    "\n",
    "# Pavyzdys naudojant funkciją su nurodytu svoriu ir rate_per_kg\n",
    "apskaiciuoti_pristatymo_islaidas(150, 2, 6)\n",
    "\n",
    "# Pavyzdys naudojant funkciją be nurodyto svorio ir rate_per_kg\n",
    "apskaiciuoti_pristatymo_islaidas(200, rate_per_kg=4)\n"
   ]
  },
  {
   "cell_type": "markdown",
   "metadata": {},
   "source": [
    "---\n",
    "\n",
    "## Argumentų perdavimas pagal pavadinimą\n",
    "\n",
    "TODO: perrašyti pavyzdį ir QA2\n",
    "\n",
    "\n",
    "Argumentų perdavimas pagal pavadinimą reiškia nurodyti, kuri reikšmė eina į kurį argumentą, kviečiant funkciją.\n",
    "\n",
    "**Pavyzdys**:"
   ]
  },
  {
   "cell_type": "code",
   "execution_count": 10,
   "metadata": {},
   "outputs": [
    {
     "name": "stdout",
     "output_type": "stream",
     "text": [
      "0.6666666666666666\n"
     ]
    }
   ],
   "source": [
    "def calculate(operation, x, y):\n",
    "    if operation == \"add\":\n",
    "        return x + y\n",
    "    elif operation == \"subtract\":\n",
    "        return x - y\n",
    "    elif operation == \"multiply\":\n",
    "        return x * y\n",
    "    elif operation == \"divide\":\n",
    "        return x / y\n",
    "\n",
    "# Kviečiant calculate funkciją, išreikštinai pavadinkite argumentus\n",
    "result = calculate(x=2, y=3, operation=\"divide\")\n",
    "print(result)  # Rezultatas: 5"
   ]
  },
  {
   "cell_type": "markdown",
   "metadata": {},
   "source": [
    "- Šioje funkcijoje yra trys privalomi argumentai: `operation`, `x` ir `y`. \n",
    "- Kviečiant funkciją, galite nurodyti argumento `pavadinimą`, po to `==` ir priskirti norimą `reikšmę`, kurią norite perduoti funkcijai. \n",
    "- Tai užtikrina, kad kiekvienas argumentas būtų perduotas teisingai, išvengiant klaidų."
   ]
  },
  {
   "cell_type": "markdown",
   "metadata": {},
   "source": [
    "### Greita Užduotis 2\n",
    "\n",
    "Šios užduoties tikslas yra suprasti ir praktikuotis argumentų perdavimą pagal pavadinimą Python funkcijose.\n",
    "\n",
    "1. Sukurkite Python funkciją pavadinimu, kuri priima tris argumentus:\n",
    "\n",
    "- `operation` (neprivalomas \"add\"): matematinė operacija (\"`add`\" - sudėtis, \"`subtract`\" - atimtis, \"`multiply`\" - daugyba arba \"`divide`\" - dalyba).\n",
    "- `num1` (neprivalomas 2): Pirmas skaičius.\n",
    "- `num2` (neprivalomas 3): Antras skaičius.\n",
    "\n",
    "2. Funkcijoje vykdykite matematines operacijas, kurios nurodo \"`operation`\" argumentas, išsaugodami rezultatą kintamąjame.\n",
    "3. Atspausdinkite rezultatą su aprašančiu pranešimu. Pavyzdžiui, jei operation yra \"`add`\", pranešimas gali būti: \"sudėjus 2 ir 3 gausime 5.\"\n",
    "4. Patikrinkite funkciją su bent keturiais skirtingais kvietimais, nurodydami operaciją pagal pavadinimą.\n",
    "5. Patikrinkite funkciją nurodydami tik `num1` arba `num2`.\n",
    "6. Kas bus, jeigu funciją paleisite nenurodę jokių argumentų?\n",
    "\n",
    "```python\n",
    "\n",
    "# matematinės operacijos iššaukimo pavyzdys\n",
    "calculate(operation=\"add\", num1=2, num2=3)\n",
    "```"
   ]
  },
  {
   "cell_type": "code",
   "execution_count": 2,
   "metadata": {},
   "outputs": [
    {
     "name": "stdout",
     "output_type": "stream",
     "text": [
      "Sudėjus 2 ir 3 gausime 5.\n",
      "Atėmus 2 iš 5 gausime 3.\n",
      "Sudauginus 4 ir 6 gausime 24.\n",
      "Padalinus 8 iš 4 gausime 2.0.\n",
      "Sudėjus 5 ir 3 gausime 8.\n",
      "Sudėjus 2 ir 7 gausime 9.\n",
      "Sudėjus 2 ir 3 gausime 5.\n"
     ]
    }
   ],
   "source": [
    "def calculate(operation=\"add\", num1=2, num2=3):\n",
    "    if operation == \"add\":\n",
    "        result = num1 + num2\n",
    "        print(f\"Sudėjus {num1} ir {num2} gausime {result}.\")\n",
    "    elif operation == \"subtract\":\n",
    "        result = num1 - num2\n",
    "        print(f\"Atėmus {num2} iš {num1} gausime {result}.\")\n",
    "    elif operation == \"multiply\":\n",
    "        result = num1 * num2\n",
    "        print(f\"Sudauginus {num1} ir {num2} gausime {result}.\")\n",
    "    elif operation == \"divide\":\n",
    "        if num2 != 0:\n",
    "            result = num1 / num2\n",
    "            print(f\"Padalinus {num1} iš {num2} gausime {result}.\")\n",
    "        else:\n",
    "            print(\"Dalyba iš nulio negalima.\")\n",
    "    else:\n",
    "        print(\"Netinkama operacija. Galimos operacijos: 'add', 'subtract', 'multiply', 'divide'.\")\n",
    "\n",
    "# Pavyzdžiai naudojant funkciją\n",
    "calculate(operation=\"add\", num1=2, num2=3)\n",
    "calculate(operation=\"subtract\", num1=5, num2=2)\n",
    "calculate(operation=\"multiply\", num1=4, num2=6)\n",
    "calculate(operation=\"divide\", num1=8, num2=4)\n",
    "\n",
    "# Pavyzdžiai nurodant tik vieną argumentą\n",
    "calculate(num1=5)\n",
    "calculate(num2=7)\n",
    "\n",
    "# Funkcijos paleidimas be argumentų\n",
    "calculate()\n"
   ]
  },
  {
   "cell_type": "markdown",
   "metadata": {},
   "source": [
    "## Papildoma užduotis\n",
    "\n",
    "Sukurti funkciją, grąžinančią asmeninę informacijos kortelės tekstą\n",
    "\n",
    "**Užduotis**: Šios užduoties tikslas yra sukurti Python funkciją, kuri sugeneruotų asmeninę informacijos kortelę su pasirinktais duomenimis.\n",
    "\n",
    "**Instrukcijos**:\n",
    "\n",
    "1. Sukurkite Python funkciją pavadinimu `generate_info_card`, kuri priima šiuos argumentus:\n",
    "\n",
    "- `name` (privaloma): Asmens `vardas`.\n",
    "- `age` (neprivalomas, numatytasis `25`): Asmens amžius.\n",
    "- `city` (neprivalomas, numatytasis \"`Unknown`\"): Asmens miestas.\n",
    "- `country` (neprivalomas, numatytasis \"`Unknown`\"): Asmens šalis.\n",
    "\n",
    "2. Funkcijoje naudokite pateiktus informacijos kortelę duomenis ir grąžinkite ją kaip tekstą.\n",
    "3. Atpausdinkite informacijos kortelę su suformatuotu pranešimu. Pavyzdžiui:\n",
    "\n",
    "```\n",
    "Asmens Kortelė:\n",
    "Vardas: John\n",
    "Amžius: 30\n",
    "Miestas: New York\n",
    "Šalis: USA\n",
    "```\n",
    "\n",
    "4. Patikrinkite funkciją su bent trimis skirtingais kvietimais, nurodydami kai kuriuos argumentus pagal pavadinimą, o kitus palikdami naudoti numatytąsias reikšmes.\n",
    "\n",
    "```python\n",
    "# iššaukimo pavyzdys\n",
    "generate_info_card(name=\"Alice\", age=28, city=\"London\", country=\"UK\")\n",
    "```"
   ]
  },
  {
   "cell_type": "code",
   "execution_count": 3,
   "metadata": {},
   "outputs": [
    {
     "name": "stdout",
     "output_type": "stream",
     "text": [
      "Information Card:\n",
      "Name: Alice\n",
      "Age: 28\n",
      "City: London\n",
      "Country: UK\n",
      "Information Card:\n",
      "Name: Bob\n",
      "Age: 35\n",
      "City: Unknown\n",
      "Country: Unknown\n",
      "Information Card:\n",
      "Name: Eve\n",
      "Age: 25\n",
      "City: Unknown\n",
      "Country: Canada\n"
     ]
    }
   ],
   "source": [
    "def generate_info_card(name, age=25, city=\"Unknown\", country=\"Unknown\"):\n",
    "    info_card = f\"Information Card:\\nName: {name}\\nAge: {age}\\nCity: {city}\\nCountry: {country}\"\n",
    "    print(info_card)\n",
    "\n",
    "# Test Cases\n",
    "generate_info_card(name=\"Alice\", age=28, city=\"London\", country=\"UK\")\n",
    "generate_info_card(name=\"Bob\", age=35)\n",
    "generate_info_card(name=\"Eve\", country=\"Canada\")\n"
   ]
  }
 ],
 "metadata": {
  "kernelspec": {
   "display_name": "venv",
   "language": "python",
   "name": "python3"
  },
  "language_info": {
   "codemirror_mode": {
    "name": "ipython",
    "version": 3
   },
   "file_extension": ".py",
   "mimetype": "text/x-python",
   "name": "python",
   "nbconvert_exporter": "python",
   "pygments_lexer": "ipython3",
   "version": "3.11.7"
  }
 },
 "nbformat": 4,
 "nbformat_minor": 2
}
